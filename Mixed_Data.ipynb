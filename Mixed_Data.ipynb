{
 "cells": [
  {
   "cell_type": "code",
   "execution_count": 1,
   "metadata": {},
   "outputs": [],
   "source": [
    "import pyspark\n",
    "from pyspark import SparkContext,SparkConf"
   ]
  },
  {
   "cell_type": "code",
   "execution_count": 2,
   "metadata": {},
   "outputs": [
    {
     "name": "stderr",
     "output_type": "stream",
     "text": [
      "/home/hadoopmarvin1/spark-3.0.0-preview2-bin-hadoop2.7/python/pyspark/context.py:219: DeprecationWarning: Support for Python 2 and Python 3 prior to version 3.6 is deprecated as of Spark 3.0. See also the plan for dropping Python 2 support at https://spark.apache.org/news/plan-for-dropping-python-2-support.html.\n",
      "  DeprecationWarning)\n"
     ]
    }
   ],
   "source": [
    "conf = SparkConf().setAppName(\"Mixed_Data\").setMaster(\"local[*]\")\n",
    "sc=pyspark.SparkContext(conf=conf)"
   ]
  },
  {
   "cell_type": "code",
   "execution_count": 3,
   "metadata": {},
   "outputs": [
    {
     "data": {
      "text/plain": [
       "'3.0.0-preview2'"
      ]
     },
     "execution_count": 3,
     "metadata": {},
     "output_type": "execute_result"
    }
   ],
   "source": [
    "#sparkSession = SparkSession(sc)\n",
    "sc.version"
   ]
  },
  {
   "cell_type": "code",
   "execution_count": null,
   "metadata": {},
   "outputs": [],
   "source": [
    "sc.getConf().getAll()"
   ]
  },
  {
   "cell_type": "code",
   "execution_count": 4,
   "metadata": {},
   "outputs": [
    {
     "data": {
      "text/plain": [
       "'/home/hadoopmarvin1'"
      ]
     },
     "execution_count": 4,
     "metadata": {},
     "output_type": "execute_result"
    }
   ],
   "source": [
    "pwd"
   ]
  },
  {
   "cell_type": "code",
   "execution_count": 5,
   "metadata": {},
   "outputs": [],
   "source": [
    "Mixed_Data_Rdd = sc.textFile(\"/home/hadoopmarvin1/Dataset/people.txt\")"
   ]
  },
  {
   "cell_type": "code",
   "execution_count": 6,
   "metadata": {},
   "outputs": [
    {
     "name": "stdout",
     "output_type": "stream",
     "text": [
      "<class 'pyspark.rdd.RDD'>\n"
     ]
    }
   ],
   "source": [
    "print(type(Mixed_Data_Rdd))"
   ]
  },
  {
   "cell_type": "code",
   "execution_count": 7,
   "metadata": {},
   "outputs": [
    {
     "data": {
      "text/plain": [
       "9"
      ]
     },
     "execution_count": 7,
     "metadata": {},
     "output_type": "execute_result"
    }
   ],
   "source": [
    "Mixed_Data_Rdd.count()"
   ]
  },
  {
   "cell_type": "code",
   "execution_count": 8,
   "metadata": {},
   "outputs": [
    {
     "data": {
      "text/plain": [
       "['Stevejobs,apple,26534',\n",
       " 'BillGates,MICROSOFT,34983',\n",
       " 'Sundar Pichai,GoogLe,12345',\n",
       " 'SatyaNadella,MICROSOFT,62356',\n",
       " 'TimCook,ApPle,82071',\n",
       " 'Jit,Bridgei2i,98234',\n",
       " 'GinnyRometty,IBM,23456',\n",
       " 'Dion Weisler,HP ,65390',\n",
       " 'VijayaKumar,HCL,38521']"
      ]
     },
     "execution_count": 8,
     "metadata": {},
     "output_type": "execute_result"
    }
   ],
   "source": [
    "Mixed_Data_Rdd.collect()"
   ]
  },
  {
   "cell_type": "code",
   "execution_count": 9,
   "metadata": {},
   "outputs": [],
   "source": [
    "Mixed_Data_Rdd_Line = Mixed_Data_Rdd.map(lambda line: line.lower().split(\",\"))"
   ]
  },
  {
   "cell_type": "code",
   "execution_count": 13,
   "metadata": {},
   "outputs": [
    {
     "name": "stdout",
     "output_type": "stream",
     "text": [
      "['stevejobs', 'apple', '26534']\n",
      "['billgates', 'microsoft', '34983']\n",
      "['sundar pichai', 'google', '12345']\n",
      "['satyanadella', 'microsoft', '62356']\n",
      "['timcook', 'apple', '82071']\n",
      "['jit', 'bridgei2i', '98234']\n",
      "['ginnyrometty', 'ibm', '23456']\n",
      "['dion weisler', 'hp ', '65390']\n",
      "['vijayakumar', 'hcl', '38521']\n"
     ]
    }
   ],
   "source": [
    "for i in Mixed_Data_Rdd_Line.collect():\n",
    "    print(i)"
   ]
  },
  {
   "cell_type": "code",
   "execution_count": 14,
   "metadata": {},
   "outputs": [],
   "source": [
    "Mixed_Data_Rdd_Key_Value = Mixed_Data_Rdd_Line.map(lambda line:(line[1],line[0]))"
   ]
  },
  {
   "cell_type": "code",
   "execution_count": 15,
   "metadata": {},
   "outputs": [
    {
     "data": {
      "text/plain": [
       "[('apple', 'stevejobs'),\n",
       " ('microsoft', 'billgates'),\n",
       " ('google', 'sundar pichai'),\n",
       " ('microsoft', 'satyanadella'),\n",
       " ('apple', 'timcook')]"
      ]
     },
     "execution_count": 15,
     "metadata": {},
     "output_type": "execute_result"
    }
   ],
   "source": [
    "Mixed_Data_Rdd_Key_Value.take(5)"
   ]
  },
  {
   "cell_type": "code",
   "execution_count": 16,
   "metadata": {},
   "outputs": [
    {
     "data": {
      "text/plain": [
       "[('microsoft', ['billgates', 'satyanadella']),\n",
       " ('hcl', 'vijayakumar'),\n",
       " ('google', 'sundar pichai')]"
      ]
     },
     "execution_count": 16,
     "metadata": {},
     "output_type": "execute_result"
    }
   ],
   "source": [
    "Mixed_Data_Rdd_Reducebykey = Mixed_Data_Rdd_Key_Value.reduceByKey(lambda x,y:[x,y])\n",
    "Mixed_Data_Rdd_Reducebykey.take(3)"
   ]
  },
  {
   "cell_type": "code",
   "execution_count": 17,
   "metadata": {},
   "outputs": [
    {
     "data": {
      "text/plain": [
       "[('microsoft', ['billgates', 'satyanadella']),\n",
       " ('hcl', 'vijayakumar'),\n",
       " ('google', 'sundar pichai'),\n",
       " ('ibm', 'ginnyrometty'),\n",
       " ('bridgei2i', 'jit'),\n",
       " ('apple', ['stevejobs', 'timcook']),\n",
       " ('hp ', 'dion weisler')]"
      ]
     },
     "execution_count": 17,
     "metadata": {},
     "output_type": "execute_result"
    }
   ],
   "source": [
    "Mixed_Data_Rdd_Reducebykey.collect()"
   ]
  },
  {
   "cell_type": "code",
   "execution_count": 20,
   "metadata": {},
   "outputs": [],
   "source": [
    "Mixed_Data_Rdd_Unique = Mixed_Data_Rdd_Reducebykey.filter(lambda line:line[0] not in ['google','apple','ibm','bridgei2i'] )"
   ]
  },
  {
   "cell_type": "code",
   "execution_count": 21,
   "metadata": {},
   "outputs": [
    {
     "data": {
      "text/plain": [
       "[('microsoft', ['billgates', 'satyanadella']),\n",
       " ('hcl', 'vijayakumar'),\n",
       " ('hp ', 'dion weisler')]"
      ]
     },
     "execution_count": 21,
     "metadata": {},
     "output_type": "execute_result"
    }
   ],
   "source": [
    "Mixed_Data_Rdd_Unique.collect()"
   ]
  },
  {
   "cell_type": "code",
   "execution_count": 28,
   "metadata": {},
   "outputs": [],
   "source": [
    "Mixed_Data_Rdd_Unique.coalesce(1).saveAsTextFile('/home/hadoopmarvin1/company_not_in_list')"
   ]
  },
  {
   "cell_type": "code",
   "execution_count": 33,
   "metadata": {},
   "outputs": [],
   "source": [
    "Mixed_Data_Rdd_Flatmap = Mixed_Data_Rdd.flatMap(lambda line:line.split(\",\"))"
   ]
  },
  {
   "cell_type": "code",
   "execution_count": 34,
   "metadata": {},
   "outputs": [
    {
     "data": {
      "text/plain": [
       "pyspark.rdd.PipelinedRDD"
      ]
     },
     "execution_count": 34,
     "metadata": {},
     "output_type": "execute_result"
    }
   ],
   "source": [
    "type(Mixed_Data_Rdd_Flatmap)"
   ]
  },
  {
   "cell_type": "code",
   "execution_count": 35,
   "metadata": {},
   "outputs": [
    {
     "data": {
      "text/plain": [
       "['Stevejobs',\n",
       " 'apple',\n",
       " '26534',\n",
       " 'BillGates',\n",
       " 'MICROSOFT',\n",
       " '34983',\n",
       " 'Sundar Pichai',\n",
       " 'GoogLe',\n",
       " '12345',\n",
       " 'SatyaNadella',\n",
       " 'MICROSOFT',\n",
       " '62356',\n",
       " 'TimCook',\n",
       " 'ApPle',\n",
       " '82071',\n",
       " 'Jit',\n",
       " 'Bridgei2i',\n",
       " '98234',\n",
       " 'GinnyRometty',\n",
       " 'IBM',\n",
       " '23456',\n",
       " 'Dion Weisler',\n",
       " 'HP ',\n",
       " '65390',\n",
       " 'VijayaKumar',\n",
       " 'HCL',\n",
       " '38521']"
      ]
     },
     "execution_count": 35,
     "metadata": {},
     "output_type": "execute_result"
    }
   ],
   "source": [
    "Mixed_Data_Rdd_Flatmap.collect()"
   ]
  },
  {
   "cell_type": "code",
   "execution_count": 36,
   "metadata": {},
   "outputs": [],
   "source": [
    "Mixed_Data_Rdd_Unique.coalesce(1).saveAsTextFile('/home/hadoopmarvin1/word_from_mixed_data')"
   ]
  }
 ],
 "metadata": {
  "anaconda-cloud": {},
  "kernelspec": {
   "display_name": "Python [default]",
   "language": "python",
   "name": "python3"
  },
  "language_info": {
   "codemirror_mode": {
    "name": "ipython",
    "version": 3
   },
   "file_extension": ".py",
   "mimetype": "text/x-python",
   "name": "python",
   "nbconvert_exporter": "python",
   "pygments_lexer": "ipython3",
   "version": "3.5.5"
  }
 },
 "nbformat": 4,
 "nbformat_minor": 2
}
